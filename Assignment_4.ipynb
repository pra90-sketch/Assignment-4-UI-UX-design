{
  "nbformat": 4,
  "nbformat_minor": 0,
  "metadata": {
    "colab": {
      "provenance": []
    },
    "kernelspec": {
      "name": "python3",
      "display_name": "Python 3"
    },
    "language_info": {
      "name": "python"
    }
  },
  "cells": [
    {
      "cell_type": "code",
      "execution_count": null,
      "metadata": {
        "id": "-uYgHEbz_FfV"
      },
      "outputs": [],
      "source": [
        "q.1 Create chat windows?\n",
        "->  <iframe style=\"border: 1px solid rgba(0, 0, 0, 0.1);\" width=\"800\" height=\"450\" src=\"https://embed.figma.com/design/NJKUmH9nUkxpCj1TgnngBq/Untitled?embed-host=share\" allowfullscreen></iframe>"
      ]
    },
    {
      "cell_type": "code",
      "source": [
        "q.2 Create a personal portfolio website?\n",
        "->  <iframe style=\"border: 1px solid rgba(0, 0, 0, 0.1);\" width=\"800\" height=\"450\" src=\"https://embed.figma.com/design/o56bc58sLrXRpI9OMp1nDu/Untitled?embed-host=share\" allowfullscreen></iframe>"
      ],
      "metadata": {
        "id": "un2kSyls_HOG"
      },
      "execution_count": null,
      "outputs": []
    }
  ]
}